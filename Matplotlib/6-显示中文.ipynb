{
 "cells": [
  {
   "cell_type": "markdown",
   "metadata": {},
   "source": [
    "# Matplotlib 显示中文\n",
    "Matplotlib 默认不支持中文字体，这因为 Matplotlib 只支持 ASCII 字符。"
   ]
  },
  {
   "cell_type": "markdown",
   "metadata": {},
   "source": [
    "## 重写配置文件\n",
    "通过临时重写配置文件的方法，可以解决 Matplotlib 显示中文乱码的问题"
   ]
  },
  {
   "cell_type": "code",
   "execution_count": null,
   "metadata": {},
   "outputs": [],
   "source": [
    "import matplotlib.pyplot as plt\n",
    "plt.rcParams[\"font.sans-serif\"]=[\"SimHei\"] #设置字体\n",
    "plt.rcParams[\"axes.unicode_minus\"]=False "
   ]
  },
  {
   "cell_type": "markdown",
   "metadata": {},
   "source": [
    "上述解决方案适用于所有操作系统，其唯一弊端是每编写一个绘图程序就要添加一次相同的代码。"
   ]
  }
 ],
 "metadata": {
  "kernelspec": {
   "display_name": "Python 3.10.7 64-bit",
   "language": "python",
   "name": "python3"
  },
  "language_info": {
   "name": "python",
   "version": "3.10.7"
  },
  "orig_nbformat": 4,
  "vscode": {
   "interpreter": {
    "hash": "98f6739f56dc0f7fe892fbf025ccfc169146ecaadc5ad3123622761854369db4"
   }
  }
 },
 "nbformat": 4,
 "nbformat_minor": 2
}
