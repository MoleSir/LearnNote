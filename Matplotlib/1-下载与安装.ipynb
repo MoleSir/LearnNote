{
 "cells": [
  {
   "cell_type": "markdown",
   "metadata": {},
   "source": [
    "# Matplotlib下载和安装\n",
    "```bash\n",
    "pip install matplotlib\n",
    "\n",
    "```"
   ]
  }
 ],
 "metadata": {
  "kernelspec": {
   "display_name": "Python 3.10.7 64-bit",
   "language": "python",
   "name": "python3"
  },
  "language_info": {
   "name": "python",
   "version": "3.10.7"
  },
  "orig_nbformat": 4,
  "vscode": {
   "interpreter": {
    "hash": "98f6739f56dc0f7fe892fbf025ccfc169146ecaadc5ad3123622761854369db4"
   }
  }
 },
 "nbformat": 4,
 "nbformat_minor": 2
}
