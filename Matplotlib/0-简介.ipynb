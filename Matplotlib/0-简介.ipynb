{
 "cells": [
  {
   "cell_type": "markdown",
   "metadata": {},
   "source": [
    "# Matplotlib 简介\n",
    "Matplotlib 是 Python 中最受欢迎的数据可视化软件包之一，支持跨平台运行，它是 Python 常用的 2D 绘图库，同时它也提供了一部分 3D 绘图接口。\n",
    "Matplotlib 通常与 NumPy、Pandas 一起使用，是数据分析中不可或缺的重要工具之一。\n",
    "\n",
    "Matplotlib 是 Python 中类似 MATLAB 的绘图工具。Matplotlib 提供了一套面向对象绘图的 API，它可以轻松地配合 Python GUI 工具包（比如 PyQt，WxPython、Tkinter）在应用程序中嵌入图形。与此同时，它也支持以脚本的形式在 Python、IPython Shell、Jupyter Notebook 以及 Web 应用的服务器中使用。\n",
    "\n",
    "## Matplotlib 架构组成\n",
    "- 脚本层，Matplotlib 结构中的最顶层。我们编写的绘图代码大部分代码都在该层运行，它的主要工作是负责生成图形与坐标系。\n",
    "- 美工层，结构中的第二层，它提供了绘制图形的元素时的给各种功能，例如，绘制标题、轴标签、坐标刻度等。\n",
    "- 后端层，Matplotlib 最底层，它定义了三个基本类：\n",
    "  - FigureCanvas（图层画布类），它提供了绘图所需的画布；\n",
    "  - Renderer（绘图操作类），它提供了在画布上进行绘图的各种方法；\n",
    "  - Event（事件处理类），它提供了用来处理鼠标和键盘事件的方法。\n",
    "\n",
    "## Mayplotlib 图形组成\n",
    "- Figure：指整个图形，可以把它理解成一张画布，它包括了所有的元素，比如标题、轴线等；\n",
    "- Axes：绘制 2D 图像的实际区域，也称为轴域区，或者绘图区；\n",
    "- Axis：指坐标系中的垂直轴与水平轴，包含轴的长度大小、轴标签和刻度标签；\n",
    "- Artist：在画布上看到的所有元素都属于 Artist 对象，比如文本对象（title、xlabel、ylabel）、Line2D 对象（用于绘制2D图像）等。"
   ]
  }
 ],
 "metadata": {
  "kernelspec": {
   "display_name": "Python 3.10.7 64-bit",
   "language": "python",
   "name": "python3"
  },
  "language_info": {
   "name": "python",
   "version": "3.10.7"
  },
  "orig_nbformat": 4,
  "vscode": {
   "interpreter": {
    "hash": "98f6739f56dc0f7fe892fbf025ccfc169146ecaadc5ad3123622761854369db4"
   }
  }
 },
 "nbformat": 4,
 "nbformat_minor": 2
}
