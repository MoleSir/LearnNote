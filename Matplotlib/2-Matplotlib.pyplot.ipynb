{
 "cells": [
  {
   "cell_type": "markdown",
   "metadata": {},
   "source": [
    "# Matplotlib.pyplot API\n",
    "Matplotlib 中的 pyplot 模块是一个类似命令风格的函数集合，这使得 Matplotlib 的工作模式和 MATLAB 相似。\n",
    "pyplot 模块提供了可以用来绘图的各种函数，比如创建一个画布，在画布中创建一个绘图区域，或是在绘图区域添加一些线、标签等。\n",
    "\n",
    "## 绘图类型\n",
    "- `bar`：绘制条形图\n",
    "- `barh`：绘制水平条形图\n",
    "- `boxplot`：绘制箱型图\n",
    "- `hist`：绘制直方图\n",
    "- `his2d`：绘制2D直方图\n",
    "- `pie`：绘制饼状图\n",
    "- `plot`：在坐标轴上画线或者标记\n",
    "- `polar`：绘制极坐标图\n",
    "- `scatter`：绘制x与y的散点图\n",
    "- `stackplot`：绘制堆叠图\n",
    "- `stem`：用来绘制二维离散数据绘制（又称为“火柴图”）\n",
    "- `step`：绘制阶梯图\n",
    "- `quiver`：绘制一个二维按箭头\n",
    "\n",
    "## `image` 函数\n",
    "- `imread`：从文件中读取图像的数据并形成数组\n",
    "- `imsave`：将数组另存为图像文件\n",
    "- `imshow`：在数轴区域内显示图像\n",
    "\n",
    "## `axis` 函数\n",
    "- `xes`：在画布(Figure)中添加轴\n",
    "- `text`：向轴添加文本\n",
    "- `title`：设置当前轴的标题\n",
    "- `xlabel`：设置x轴标签\n",
    "- `xlim`：获取或者设置x轴区间大小\n",
    "- `xscale`：设置x轴缩放比例\n",
    "- `xticks`：获取或设置x轴刻标和相应标签\n",
    "- `ylabel`：设置y轴的标签\n",
    "- `ylim`：获取或设置y轴的区间大小\n",
    "- `yscale`：设置y轴的缩放比例\n",
    "- `yticks`：获取或设置y轴的刻标和相应标签\n",
    "\n",
    "## `figure` 函数\n",
    "- `figtext`：在画布上添加文本\n",
    "- `figure`：创建一个新画布\n",
    "- `show`：显示数字\n",
    "- `savefig`：保存当前画布\n",
    "- `close`：关闭画布窗口"
   ]
  }
 ],
 "metadata": {
  "kernelspec": {
   "display_name": "Python 3.10.7 64-bit",
   "language": "python",
   "name": "python3"
  },
  "language_info": {
   "name": "python",
   "version": "3.10.7"
  },
  "orig_nbformat": 4,
  "vscode": {
   "interpreter": {
    "hash": "98f6739f56dc0f7fe892fbf025ccfc169146ecaadc5ad3123622761854369db4"
   }
  }
 },
 "nbformat": 4,
 "nbformat_minor": 2
}
